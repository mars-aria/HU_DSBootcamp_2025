{
  "nbformat": 4,
  "nbformat_minor": 0,
  "metadata": {
    "colab": {
      "provenance": [],
      "include_colab_link": true
    },
    "kernelspec": {
      "name": "python3",
      "display_name": "Python 3"
    },
    "language_info": {
      "name": "python"
    }
  },
  "cells": [
    {
      "cell_type": "markdown",
      "metadata": {
        "id": "view-in-github",
        "colab_type": "text"
      },
      "source": [
        "<a href=\"https://colab.research.google.com/github/mars-aria/HU_DSBootcamp_2025/blob/main/Untitled0.ipynb\" target=\"_parent\"><img src=\"https://colab.research.google.com/assets/colab-badge.svg\" alt=\"Open In Colab\"/></a>"
      ]
    },
    {
      "cell_type": "code",
      "source": [
        "print(\"This program will check to see if two values are the same.\")\n",
        "string1 = input(\"Enter a name: \")\n",
        "string2 = input(\"Enter another name: \")\n",
        "\n",
        "if string1 == string2:\n",
        "    print(\"They are the same!\")\n",
        "else:\n",
        "    print(\"They are not the same.\")"
      ],
      "metadata": {
        "colab": {
          "base_uri": "https://localhost:8080/"
        },
        "id": "ECS6xfdINh2M",
        "outputId": "0ae5d7f8-9849-43dd-bba9-b1f1b8977a8c"
      },
      "execution_count": 10,
      "outputs": [
        {
          "output_type": "stream",
          "name": "stdout",
          "text": [
            "This program will check to see if two values are the same.\n",
            "Enter a name: Marshanah\n",
            "Enter another name: Marshanah\n",
            "They are the same!\n"
          ]
        }
      ]
    },
    {
      "cell_type": "code",
      "source": [
        "\n",
        "string11 = \"It's Friday!\"\n",
        "string12 = \"It's Friday!\"\n",
        "#print(string11 is string12)\n",
        "print(string11 == string12) # These two are not the same because they have different variable names.\n",
        "#However, it makes sense for the output to be True after using the '==' operator because they do have the same value assigned to them."
      ],
      "metadata": {
        "colab": {
          "base_uri": "https://localhost:8080/"
        },
        "id": "GZ7WxBArSYdP",
        "outputId": "fb094de6-3cc5-47a1-9303-37719950b0e7"
      },
      "execution_count": 11,
      "outputs": [
        {
          "output_type": "stream",
          "name": "stdout",
          "text": [
            "True\n"
          ]
        }
      ]
    },
    {
      "cell_type": "code",
      "execution_count": 59,
      "metadata": {
        "colab": {
          "base_uri": "https://localhost:8080/"
        },
        "id": "pBjdRBDuU_2O",
        "outputId": "e472aadb-a641-4404-9409-9f4d97f3f2cf"
      },
      "outputs": [
        {
          "output_type": "stream",
          "name": "stdout",
          "text": [
            "19\n"
          ]
        }
      ],
      "source": [
        "#welcome = \"Hello Black World\"\n",
        "#length = len(welcome)\n",
        "phrase = \"Black is beautiful!\"\n",
        "new_length = len(phrase)\n",
        "#print(length)\n",
        "print(new_length)"
      ]
    },
    {
      "cell_type": "code",
      "source": [
        "#my_string = \"Hello!\"\n",
        "#character = my_string[5]\n",
        "new_string = \"Greetings!\"\n",
        "new_character = new_string[-4] # this does the same as my_string[6]\n",
        "#print(character)\n",
        "print(new_character)"
      ],
      "metadata": {
        "id": "FCpaBYt2VTte",
        "colab": {
          "base_uri": "https://localhost:8080/"
        },
        "outputId": "abd7def3-b2a7-4b6b-b7e0-19b2b84a6ea6"
      },
      "execution_count": 55,
      "outputs": [
        {
          "output_type": "stream",
          "name": "stdout",
          "text": [
            "n\n"
          ]
        }
      ]
    },
    {
      "cell_type": "code",
      "source": [
        "my_string = \"House\"\n",
        "#my_string[0] = \"M\"\n",
        "#print(my_string)\n",
        "\n",
        "my_string = \"House\"\n",
        "my_string = \"Home\"\n",
        "my_string = \"Casa\" # I assigned the variable my_string a new value of \"Casa\".\n",
        "print(my_string)"
      ],
      "metadata": {
        "id": "OZWuFoTSVgGJ",
        "colab": {
          "base_uri": "https://localhost:8080/"
        },
        "outputId": "74c7fe4b-441a-4e00-8786-a67011fd6c75"
      },
      "execution_count": 25,
      "outputs": [
        {
          "output_type": "stream",
          "name": "stdout",
          "text": [
            "Casa\n"
          ]
        }
      ]
    },
    {
      "cell_type": "code",
      "source": [
        "my_string = \"The brown dog jumps over the lazy fox.\"\n",
        "\n",
        "#print(\"jumps\" in my_string)\n",
        "print(\"purple\" in my_string) # The output is False because purple is not in the string."
      ],
      "metadata": {
        "id": "cHp10EvqWhhO",
        "colab": {
          "base_uri": "https://localhost:8080/"
        },
        "outputId": "3962875f-60e7-472f-b4eb-fdaf78dfec95"
      },
      "execution_count": 31,
      "outputs": [
        {
          "output_type": "stream",
          "name": "stdout",
          "text": [
            "False\n"
          ]
        }
      ]
    },
    {
      "cell_type": "code",
      "source": [
        "my_string = \"The brown dog jumps over the lazy fox.\"\n",
        "#my_slice = my_string[4:9]\n",
        "my_slice = my_string[34:37] # this calls the index numbers for 'fox' instead of 'brown'.\n",
        "\n",
        "print(my_slice)"
      ],
      "metadata": {
        "id": "Qs915wpbWvL9",
        "colab": {
          "base_uri": "https://localhost:8080/"
        },
        "outputId": "63998b68-9fc2-49cd-8fd3-beaa20d9f003"
      },
      "execution_count": 36,
      "outputs": [
        {
          "output_type": "stream",
          "name": "stdout",
          "text": [
            "fox\n"
          ]
        }
      ]
    },
    {
      "cell_type": "code",
      "source": [
        "my_string = \"Hello world\"\n",
        "\n",
        "for char in my_string[0:5]: # only prints the first five characters.\n",
        "    print(char)"
      ],
      "metadata": {
        "id": "77L6-QI3X1YQ",
        "colab": {
          "base_uri": "https://localhost:8080/"
        },
        "outputId": "66609e4b-0b2a-4ca1-e0be-60c70ed60b5a"
      },
      "execution_count": 43,
      "outputs": [
        {
          "output_type": "stream",
          "name": "stdout",
          "text": [
            "H\n",
            "e\n",
            "l\n",
            "l\n",
            "o\n"
          ]
        }
      ]
    },
    {
      "cell_type": "code",
      "source": [
        "string1 = \"It's Friday!\"\n",
        "string2 = \"It's friday!\"\n",
        "string3 = \"TGIF!\"\n",
        "print(string1 != string3) # I changed the operator from '==' to '!='. I also created a third string variable."
      ],
      "metadata": {
        "id": "hjJ5UB5IYHt7",
        "colab": {
          "base_uri": "https://localhost:8080/"
        },
        "outputId": "f590e0f4-6e48-4f97-abc9-2d4a7b8116c6"
      },
      "execution_count": 64,
      "outputs": [
        {
          "output_type": "stream",
          "name": "stdout",
          "text": [
            "True\n"
          ]
        }
      ]
    },
    {
      "cell_type": "code",
      "source": [
        "NameF = input(\"What is your first name? \")\n",
        "NameMI = input(\"What is your middle intial? \")\n",
        "NameL = input(\"What is your last name? \")\n",
        "\n",
        "#print (NameF + NameMI + NameL)\n",
        "\n",
        "print(NameF + ' '+ NameMI + ' '+ NameL)"
      ],
      "metadata": {
        "id": "JQ6AVu2iYalx",
        "colab": {
          "base_uri": "https://localhost:8080/"
        },
        "outputId": "009c7f97-f1f8-460c-837c-a7ce421c4366"
      },
      "execution_count": 61,
      "outputs": [
        {
          "output_type": "stream",
          "name": "stdout",
          "text": [
            "What is your first name? Marshanah\n",
            "What is your middle intial? R\n",
            "What is your last name? Taylor\n",
            "Marshanah R Taylor\n"
          ]
        }
      ]
    },
    {
      "cell_type": "code",
      "source": [
        "print(\"This program will check to see if two values are the same.\")\n",
        "string1 = input(\"Enter a value: \").lower()\n",
        "string2 = input(\"Enter another value: \").lower()\n",
        "if string1 == string2:\n",
        "    print(\"They are the same!\")\n",
        "else:\n",
        "    print(\"They are not the same.\")"
      ],
      "metadata": {
        "id": "ofrzds55YrsP",
        "colab": {
          "base_uri": "https://localhost:8080/"
        },
        "outputId": "e96d5340-0255-420a-960e-87d70460769f"
      },
      "execution_count": 63,
      "outputs": [
        {
          "output_type": "stream",
          "name": "stdout",
          "text": [
            "This program will check to see if two values are the same.\n",
            "Enter a value: blah blah blah\n",
            "Enter another value: Blah Blah Blah\n",
            "They are the same!\n"
          ]
        }
      ]
    },
    {
      "cell_type": "code",
      "source": [
        "print(string3)"
      ],
      "metadata": {
        "id": "k8tdDJ5KZFzU",
        "colab": {
          "base_uri": "https://localhost:8080/"
        },
        "outputId": "c8c96d3b-2281-4bbd-da61-38fbc6d6ed74"
      },
      "execution_count": 65,
      "outputs": [
        {
          "output_type": "stream",
          "name": "stdout",
          "text": [
            "TGIF!\n"
          ]
        }
      ]
    },
    {
      "cell_type": "code",
      "source": [
        "age = int(input(\"Enter your age: \"))"
      ],
      "metadata": {
        "id": "W_S9zX51_vH4",
        "outputId": "9a0bfa9f-f011-464a-99dd-94531038a05c",
        "colab": {
          "base_uri": "https://localhost:8080/"
        }
      },
      "execution_count": 79,
      "outputs": [
        {
          "name": "stdout",
          "output_type": "stream",
          "text": [
            "Enter your age: 12\n"
          ]
        }
      ]
    },
    {
      "cell_type": "code",
      "source": [
        "if age < 18:\n",
        "    print(\"You are underage.\")\n",
        "elif age >= 18 and age < 65:\n",
        "    print(\"You are an adult.\")\n",
        "else:\n",
        "    print(\"You are a senior citizen.\")"
      ],
      "metadata": {
        "id": "w6reUHsC_BQm",
        "outputId": "14ac85a8-fbdc-49a3-9f90-6a6dd9ba16ca",
        "colab": {
          "base_uri": "https://localhost:8080/"
        }
      },
      "execution_count": 80,
      "outputs": [
        {
          "output_type": "stream",
          "name": "stdout",
          "text": [
            "You are underage.\n"
          ]
        }
      ]
    },
    {
      "cell_type": "code",
      "source": [
        "if age < 21:\n",
        "    print(\"You are too young to drink alcohol.\")\n",
        "elif age >= 18 and age < 65:\n",
        "    print(\"You are old enough to drink alcohol.\")\n",
        "else:\n",
        "    print(\"You are old enough to drink alcohol responsibly, if there are no health issues that permit you from partaking.\")"
      ],
      "metadata": {
        "id": "folL2CP0ZPlG",
        "colab": {
          "base_uri": "https://localhost:8080/"
        },
        "outputId": "a4c7e47b-0c06-40a3-b90d-a68c183e5d7f"
      },
      "execution_count": 81,
      "outputs": [
        {
          "output_type": "stream",
          "name": "stdout",
          "text": [
            "You are too young to drink alcohol.\n"
          ]
        }
      ]
    }
  ]
}